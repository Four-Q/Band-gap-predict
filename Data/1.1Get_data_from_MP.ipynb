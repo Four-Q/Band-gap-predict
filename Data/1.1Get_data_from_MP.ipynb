{
 "cells": [
  {
   "cell_type": "markdown",
   "metadata": {},
   "source": [
    "# Get Data\n",
    "Get data from Material Project by API"
   ]
  },
  {
   "cell_type": "code",
   "execution_count": 2,
   "metadata": {},
   "outputs": [
    {
     "data": {
      "text/plain": [
       "'c:\\\\Users\\\\Fortyfour\\\\Desktop\\\\graduation_design\\\\Scripts\\\\Data'"
      ]
     },
     "execution_count": 2,
     "metadata": {},
     "output_type": "execute_result"
    }
   ],
   "source": [
    "import sys\n",
    "import os\n",
    "current_dir = os.getcwd()\n",
    "current_dir"
   ]
  },
  {
   "cell_type": "code",
   "execution_count": 3,
   "metadata": {},
   "outputs": [],
   "source": [
    "# To import the custom module from a specific path\n",
    "sys.path.insert(0, os.path.join(current_dir, '../'))"
   ]
  },
  {
   "cell_type": "code",
   "execution_count": 4,
   "metadata": {},
   "outputs": [
    {
     "data": {
      "text/html": [
       "\n",
       "        <div>\n",
       "            <ins><a href=\"https://ydata.ai/register\">Upgrade to ydata-sdk</a></ins>\n",
       "            <p>\n",
       "                Improve your data and profiling with ydata-sdk, featuring data quality scoring, redundancy detection, outlier identification, text validation, and synthetic data generation.\n",
       "            </p>\n",
       "        </div>\n",
       "        "
      ],
      "text/plain": [
       "<IPython.core.display.HTML object>"
      ]
     },
     "metadata": {},
     "output_type": "display_data"
    }
   ],
   "source": [
    "from mp_api.client import MPRester\n",
    "import pandas as pd\n",
    "from matplotlib import pyplot as plt\n",
    "\n",
    "from ydata_profiling import ProfileReport\n",
    "from Utools.ML_figures.figures import element_prevalence\n",
    "%matplotlib inline\n",
    "%config InlineBackend.figure_format='retina'"
   ]
  },
  {
   "cell_type": "code",
   "execution_count": 5,
   "metadata": {},
   "outputs": [],
   "source": [
    "# Set the API key for Materials Project\n",
    "API_KEY = os.getenv(\"MP_API_KEY\")"
   ]
  },
  {
   "cell_type": "code",
   "execution_count": 6,
   "metadata": {},
   "outputs": [],
   "source": [
    "# Check the available attributes.\n",
    "with MPRester(API_KEY) as mpr:\n",
    "    # Get the list of available attributes\n",
    "    available_fields = mpr.materials.summary.available_fields"
   ]
  },
  {
   "cell_type": "code",
   "execution_count": 7,
   "metadata": {},
   "outputs": [
    {
     "data": {
      "text/plain": [
       "['builder_meta',\n",
       " 'nsites',\n",
       " 'elements',\n",
       " 'nelements',\n",
       " 'composition',\n",
       " 'composition_reduced',\n",
       " 'formula_pretty',\n",
       " 'formula_anonymous',\n",
       " 'chemsys',\n",
       " 'volume',\n",
       " 'density',\n",
       " 'density_atomic',\n",
       " 'symmetry',\n",
       " 'property_name',\n",
       " 'material_id',\n",
       " 'deprecated',\n",
       " 'deprecation_reasons',\n",
       " 'last_updated',\n",
       " 'origins',\n",
       " 'warnings',\n",
       " 'structure',\n",
       " 'task_ids',\n",
       " 'uncorrected_energy_per_atom',\n",
       " 'energy_per_atom',\n",
       " 'formation_energy_per_atom',\n",
       " 'energy_above_hull',\n",
       " 'is_stable',\n",
       " 'equilibrium_reaction_energy_per_atom',\n",
       " 'decomposes_to',\n",
       " 'xas',\n",
       " 'grain_boundaries',\n",
       " 'band_gap',\n",
       " 'cbm',\n",
       " 'vbm',\n",
       " 'efermi',\n",
       " 'is_gap_direct',\n",
       " 'is_metal',\n",
       " 'es_source_calc_id',\n",
       " 'bandstructure',\n",
       " 'dos',\n",
       " 'dos_energy_up',\n",
       " 'dos_energy_down',\n",
       " 'is_magnetic',\n",
       " 'ordering',\n",
       " 'total_magnetization',\n",
       " 'total_magnetization_normalized_vol',\n",
       " 'total_magnetization_normalized_formula_units',\n",
       " 'num_magnetic_sites',\n",
       " 'num_unique_magnetic_sites',\n",
       " 'types_of_magnetic_species',\n",
       " 'bulk_modulus',\n",
       " 'shear_modulus',\n",
       " 'universal_anisotropy',\n",
       " 'homogeneous_poisson',\n",
       " 'e_total',\n",
       " 'e_ionic',\n",
       " 'e_electronic',\n",
       " 'n',\n",
       " 'e_ij_max',\n",
       " 'weighted_surface_energy_EV_PER_ANG2',\n",
       " 'weighted_surface_energy',\n",
       " 'weighted_work_function',\n",
       " 'surface_anisotropy',\n",
       " 'shape_factor',\n",
       " 'has_reconstructed',\n",
       " 'possible_species',\n",
       " 'has_props',\n",
       " 'theoretical',\n",
       " 'database_IDs']"
      ]
     },
     "execution_count": 7,
     "metadata": {},
     "output_type": "execute_result"
    }
   ],
   "source": [
    "available_fields"
   ]
  },
  {
   "cell_type": "code",
   "execution_count": 8,
   "metadata": {},
   "outputs": [],
   "source": [
    "need_fields = ['material_id', 'formula_pretty', 'composition', 'band_gap', 'is_gap_direct',\n",
    "                'formation_energy_per_atom', 'energy_above_hull', 'volume', 'density', 'density_atomic',\n",
    "                'symmetry', 'nsites', 'structure']"
   ]
  },
  {
   "cell_type": "code",
   "execution_count": 9,
   "metadata": {},
   "outputs": [
    {
     "data": {
      "application/vnd.jupyter.widget-view+json": {
       "model_id": "2d0324f834e44d7bb2b3fdfce1f72bca",
       "version_major": 2,
       "version_minor": 0
      },
      "text/plain": [
       "Retrieving SummaryDoc documents:   0%|          | 0/58919 [00:00<?, ?it/s]"
      ]
     },
     "metadata": {},
     "output_type": "display_data"
    }
   ],
   "source": [
    "# Get the data of non-metal, stable materials\n",
    "# e_above_hull < 0.1 \n",
    "# band_gap < 6eV\n",
    "with MPRester(API_KEY) as mpr:\n",
    "    # Get the data for the specified fields\n",
    "    docs = mpr.materials.summary.search(\n",
    "        fields = need_fields,\n",
    "        is_metal = False, \n",
    "        band_gap = (0, 6),\n",
    "        energy_above_hull =(0, 0.1)\n",
    "    )"
   ]
  },
  {
   "cell_type": "code",
   "execution_count": 10,
   "metadata": {},
   "outputs": [
    {
     "data": {
      "text/plain": [
       "\u001b[4m\u001b[1mMPDataDoc<SummaryDoc>\u001b[0;0m\u001b[0;0m(\n",
       "\u001b[1mnsites\u001b[0;0m=5,\n",
       "\u001b[1mcomposition\u001b[0;0m=Composition('Ac2 O3'),\n",
       "\u001b[1mformula_pretty\u001b[0;0m='Ac2O3',\n",
       "\u001b[1mvolume\u001b[0;0m=91.51122386046316,\n",
       "\u001b[1mdensity\u001b[0;0m=9.109129867325775,\n",
       "\u001b[1mdensity_atomic\u001b[0;0m=18.30224477209263,\n",
       "\u001b[1msymmetry\u001b[0;0m=SymmetryData(crystal_system=<CrystalSystem.trig: 'Trigonal'>, symbol='P-3m1', number=164, point_group='-3m', symprec=0.1, angle_tolerance=5.0, version='2.5.0'),\n",
       "\u001b[1mmaterial_id\u001b[0;0m=MPID(mp-11107),\n",
       "\u001b[1mstructure\u001b[0;0m=Structure Summary\n",
       "Lattice\n",
       "    abc : 4.09548748 4.09548852432923 6.29988201\n",
       " angles : 90.0 90.0 119.99999994338978\n",
       " volume : 91.51122386046316\n",
       "      A : np.float64(4.09548748) np.float64(-1e-08) np.float64(-0.0)\n",
       "      B : np.float64(-2.04774425) np.float64(3.54679711) np.float64(0.0)\n",
       "      C : np.float64(-0.0) np.float64(0.0) np.float64(6.29988201)\n",
       "    pbc : True True True\n",
       "PeriodicSite: Ac (2.048, 1.182, 4.755) [0.6667, 0.3333, 0.7548]\n",
       "PeriodicSite: Ac (-2.388e-06, 2.365, 1.545) [0.3333, 0.6667, 0.2452]\n",
       "PeriodicSite: O (2.048, 1.182, 2.238) [0.6667, 0.3333, 0.3553]\n",
       "PeriodicSite: O (-2.388e-06, 2.365, 4.062) [0.3333, 0.6667, 0.6447]\n",
       "PeriodicSite: O (0.0, 0.0, 0.0) [0.0, -0.0, 0.0],\n",
       "\u001b[1mformation_energy_per_atom\u001b[0;0m=-3.737668289999997,\n",
       "\u001b[1menergy_above_hull\u001b[0;0m=0.0,\n",
       "\u001b[1mband_gap\u001b[0;0m=3.522599999999999,\n",
       "\u001b[1mis_gap_direct\u001b[0;0m=False,\n",
       "\u001b[1mfields_not_requested\u001b[0;0m=['builder_meta', 'elements', 'nelements', 'composition_reduced', 'formula_anonymous', 'chemsys', 'property_name', 'deprecated', 'deprecation_reasons', 'last_updated', 'origins', 'warnings', 'task_ids', 'uncorrected_energy_per_atom', 'energy_per_atom', 'is_stable', 'equilibrium_reaction_energy_per_atom', 'decomposes_to', 'xas', 'grain_boundaries', 'cbm', 'vbm', 'efermi', 'is_metal', 'es_source_calc_id', 'bandstructure', 'dos', 'dos_energy_up', 'dos_energy_down', 'is_magnetic', 'ordering', 'total_magnetization', 'total_magnetization_normalized_vol', 'total_magnetization_normalized_formula_units', 'num_magnetic_sites', 'num_unique_magnetic_sites', 'types_of_magnetic_species', 'bulk_modulus', 'shear_modulus', 'universal_anisotropy', 'homogeneous_poisson', 'e_total', 'e_ionic', 'e_electronic', 'n', 'e_ij_max', 'weighted_surface_energy_EV_PER_ANG2', 'weighted_surface_energy', 'weighted_work_function', 'surface_anisotropy', 'shape_factor', 'has_reconstructed', 'possible_species', 'has_props', 'theoretical', 'database_IDs']\n",
       ")"
      ]
     },
     "execution_count": 10,
     "metadata": {},
     "output_type": "execute_result"
    }
   ],
   "source": [
    "docs[0]"
   ]
  },
  {
   "cell_type": "code",
   "execution_count": 11,
   "metadata": {},
   "outputs": [],
   "source": [
    "# Convert the data to a pandas DataFrame\n",
    "doc_dict = {\n",
    "    'material_id': [doc.material_id for doc in docs],\n",
    "    'formula_pretty': [doc.formula_pretty for doc in docs],\n",
    "    'composition': [doc.composition for doc in docs],\n",
    "    'nsites': [doc.nsites for doc in docs],\n",
    "    'crystal_system': [doc.symmetry.crystal_system for doc in docs],\n",
    "    'space_group': [doc.symmetry.number for doc in docs],\n",
    "    'point_group': [doc.symmetry.point_group for doc in docs],\n",
    "    'volume': [doc.volume for doc in docs],\n",
    "    'density': [doc.density for doc in docs],\n",
    "    'density_atomic': [doc.density_atomic for doc in docs],\n",
    "    'formation_energy_per_atom': [doc.formation_energy_per_atom for doc in docs],\n",
    "    'energy_above_hull': [doc.energy_above_hull for doc in docs],\n",
    "    'is_gap_direct': [doc.is_gap_direct for doc in docs],\n",
    "    # 'structure': [doc.structure for doc in docs], # when we need the structure, we can use the MPRester to get it separately\n",
    "    'band_gap': [doc.band_gap for doc in docs]\n",
    "}\n",
    "\n",
    "raw_df = pd.DataFrame(doc_dict)"
   ]
  },
  {
   "cell_type": "code",
   "execution_count": 12,
   "metadata": {},
   "outputs": [
    {
     "data": {
      "text/html": [
       "<div>\n",
       "<style scoped>\n",
       "    .dataframe tbody tr th:only-of-type {\n",
       "        vertical-align: middle;\n",
       "    }\n",
       "\n",
       "    .dataframe tbody tr th {\n",
       "        vertical-align: top;\n",
       "    }\n",
       "\n",
       "    .dataframe thead th {\n",
       "        text-align: right;\n",
       "    }\n",
       "</style>\n",
       "<table border=\"1\" class=\"dataframe\">\n",
       "  <thead>\n",
       "    <tr style=\"text-align: right;\">\n",
       "      <th></th>\n",
       "      <th>material_id</th>\n",
       "      <th>formula_pretty</th>\n",
       "      <th>composition</th>\n",
       "      <th>nsites</th>\n",
       "      <th>crystal_system</th>\n",
       "      <th>space_group</th>\n",
       "      <th>point_group</th>\n",
       "      <th>volume</th>\n",
       "      <th>density</th>\n",
       "      <th>density_atomic</th>\n",
       "      <th>formation_energy_per_atom</th>\n",
       "      <th>energy_above_hull</th>\n",
       "      <th>is_gap_direct</th>\n",
       "      <th>band_gap</th>\n",
       "    </tr>\n",
       "  </thead>\n",
       "  <tbody>\n",
       "    <tr>\n",
       "      <th>0</th>\n",
       "      <td>mp-11107</td>\n",
       "      <td>Ac2O3</td>\n",
       "      <td>(Ac, O)</td>\n",
       "      <td>5</td>\n",
       "      <td>Trigonal</td>\n",
       "      <td>164</td>\n",
       "      <td>-3m</td>\n",
       "      <td>91.511224</td>\n",
       "      <td>9.109130</td>\n",
       "      <td>18.302245</td>\n",
       "      <td>-3.737668</td>\n",
       "      <td>0.0000</td>\n",
       "      <td>False</td>\n",
       "      <td>3.5226</td>\n",
       "    </tr>\n",
       "    <tr>\n",
       "      <th>1</th>\n",
       "      <td>mp-32800</td>\n",
       "      <td>Ac2S3</td>\n",
       "      <td>(Ac, S)</td>\n",
       "      <td>40</td>\n",
       "      <td>Tetragonal</td>\n",
       "      <td>122</td>\n",
       "      <td>-42m</td>\n",
       "      <td>1118.407852</td>\n",
       "      <td>6.535149</td>\n",
       "      <td>27.960196</td>\n",
       "      <td>-2.492486</td>\n",
       "      <td>0.0000</td>\n",
       "      <td>False</td>\n",
       "      <td>2.2962</td>\n",
       "    </tr>\n",
       "    <tr>\n",
       "      <th>2</th>\n",
       "      <td>mp-977351</td>\n",
       "      <td>Ac2S3</td>\n",
       "      <td>(Ac, S)</td>\n",
       "      <td>10</td>\n",
       "      <td>Trigonal</td>\n",
       "      <td>167</td>\n",
       "      <td>-3m</td>\n",
       "      <td>328.464893</td>\n",
       "      <td>5.562971</td>\n",
       "      <td>32.846489</td>\n",
       "      <td>-2.439787</td>\n",
       "      <td>0.0527</td>\n",
       "      <td>False</td>\n",
       "      <td>3.0275</td>\n",
       "    </tr>\n",
       "    <tr>\n",
       "      <th>3</th>\n",
       "      <td>mp-867311</td>\n",
       "      <td>AcAgTe2</td>\n",
       "      <td>(Ac, Ag, Te)</td>\n",
       "      <td>4</td>\n",
       "      <td>Cubic</td>\n",
       "      <td>225</td>\n",
       "      <td>m-3m</td>\n",
       "      <td>122.518406</td>\n",
       "      <td>7.997421</td>\n",
       "      <td>30.629602</td>\n",
       "      <td>-0.996232</td>\n",
       "      <td>0.0000</td>\n",
       "      <td>False</td>\n",
       "      <td>0.0794</td>\n",
       "    </tr>\n",
       "    <tr>\n",
       "      <th>4</th>\n",
       "      <td>mp-1183115</td>\n",
       "      <td>AcAlO3</td>\n",
       "      <td>(Ac, Al, O)</td>\n",
       "      <td>5</td>\n",
       "      <td>Cubic</td>\n",
       "      <td>221</td>\n",
       "      <td>m-3m</td>\n",
       "      <td>57.451413</td>\n",
       "      <td>8.728230</td>\n",
       "      <td>11.490283</td>\n",
       "      <td>-3.690019</td>\n",
       "      <td>0.0000</td>\n",
       "      <td>True</td>\n",
       "      <td>4.1024</td>\n",
       "    </tr>\n",
       "  </tbody>\n",
       "</table>\n",
       "</div>"
      ],
      "text/plain": [
       "  material_id formula_pretty   composition  nsites crystal_system  \\\n",
       "0    mp-11107          Ac2O3       (Ac, O)       5       Trigonal   \n",
       "1    mp-32800          Ac2S3       (Ac, S)      40     Tetragonal   \n",
       "2   mp-977351          Ac2S3       (Ac, S)      10       Trigonal   \n",
       "3   mp-867311        AcAgTe2  (Ac, Ag, Te)       4          Cubic   \n",
       "4  mp-1183115         AcAlO3   (Ac, Al, O)       5          Cubic   \n",
       "\n",
       "   space_group point_group       volume   density  density_atomic  \\\n",
       "0          164         -3m    91.511224  9.109130       18.302245   \n",
       "1          122        -42m  1118.407852  6.535149       27.960196   \n",
       "2          167         -3m   328.464893  5.562971       32.846489   \n",
       "3          225        m-3m   122.518406  7.997421       30.629602   \n",
       "4          221        m-3m    57.451413  8.728230       11.490283   \n",
       "\n",
       "   formation_energy_per_atom  energy_above_hull  is_gap_direct  band_gap  \n",
       "0                  -3.737668             0.0000          False    3.5226  \n",
       "1                  -2.492486             0.0000          False    2.2962  \n",
       "2                  -2.439787             0.0527          False    3.0275  \n",
       "3                  -0.996232             0.0000          False    0.0794  \n",
       "4                  -3.690019             0.0000           True    4.1024  "
      ]
     },
     "execution_count": 12,
     "metadata": {},
     "output_type": "execute_result"
    }
   ],
   "source": [
    "raw_df.head()"
   ]
  },
  {
   "cell_type": "code",
   "execution_count": 14,
   "metadata": {},
   "outputs": [
    {
     "data": {
      "text/plain": [
       "(58919, 14)"
      ]
     },
     "execution_count": 14,
     "metadata": {},
     "output_type": "execute_result"
    }
   ],
   "source": [
    "raw_df.shape"
   ]
  },
  {
   "cell_type": "code",
   "execution_count": 13,
   "metadata": {},
   "outputs": [],
   "source": [
    "# Save the raw data to a csv file\n",
    "file_path = os.path.join(current_dir, '../Data/mp_raw_data.csv')\n",
    "raw_df.to_csv(file_path, index=False)"
   ]
  },
  {
   "cell_type": "markdown",
   "metadata": {},
   "source": [
    "- There are a total of 58919 pieces of data from MP."
   ]
  },
  {
   "cell_type": "markdown",
   "metadata": {},
   "source": []
  }
 ],
 "metadata": {
  "kernelspec": {
   "display_name": "base",
   "language": "python",
   "name": "python3"
  },
  "language_info": {
   "codemirror_mode": {
    "name": "ipython",
    "version": 3
   },
   "file_extension": ".py",
   "mimetype": "text/x-python",
   "name": "python",
   "nbconvert_exporter": "python",
   "pygments_lexer": "ipython3",
   "version": "3.11.11"
  }
 },
 "nbformat": 4,
 "nbformat_minor": 2
}
