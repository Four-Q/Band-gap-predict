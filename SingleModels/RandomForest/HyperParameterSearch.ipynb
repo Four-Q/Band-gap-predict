{
 "cells": [
  {
   "cell_type": "markdown",
   "metadata": {},
   "source": [
    "# Hyper Parameter Optimization For Random Forest"
   ]
  },
  {
   "cell_type": "code",
   "execution_count": null,
   "metadata": {},
   "outputs": [],
   "source": [
    "# import libraries\n",
    "import os\n",
    "import sys\n",
    "import numpy as np\n",
    "import pandas as pd\n",
    "# Set random seed for reproducibility\n",
    "RANDOM_SEED = 42\n",
    "np.random.seed(RANDOM_SEED)\n",
    "MODEL_NAME = 'RandomForest'"
   ]
  },
  {
   "cell_type": "code",
   "execution_count": null,
   "metadata": {},
   "outputs": [],
   "source": [
    "current_path = os.getcwd()\n",
    "current_path"
   ]
  },
  {
   "cell_type": "code",
   "execution_count": null,
   "metadata": {},
   "outputs": [],
   "source": [
    "# To import the custom module from a specific path\n",
    "sys.path.insert(0, os.path.join(current_path, '../../'))\n",
    "# Importing the custom module\n",
    "from Utools.draw import plot_feature_importance, plot_feature_importance\n",
    "from Utools.SingleModel import SingleModel"
   ]
  },
  {
   "cell_type": "code",
   "execution_count": null,
   "metadata": {},
   "outputs": [],
   "source": [
    "from sklearn.base import clone\n",
    "from sklearn.ensemble import RandomForestRegressor\n",
    "from sklearn.model_selection import GridSearchCV, KFold"
   ]
  },
  {
   "cell_type": "markdown",
   "metadata": {},
   "source": [
    "## Load Data"
   ]
  },
  {
   "cell_type": "code",
   "execution_count": null,
   "metadata": {},
   "outputs": [],
   "source": [
    "# Load data\n",
    "file_dir = os.path.join(current_path, '../../Data/composition_data/feature_data')\n",
    "# dft data\n",
    "dft_train = pd.read_csv(os.path.join(file_dir, 'dft', 'train.csv'))\n",
    "dft_test = pd.read_csv(os.path.join(file_dir, 'dft', 'test.csv'))\n",
    "# exp data\n",
    "exp_train = pd.read_csv(os.path.join(file_dir, 'exp', 'train.csv'))\n",
    "exp_test = pd.read_csv(os.path.join(file_dir, 'exp', 'test.csv'))\n",
    "\n",
    "dft_train_X = dft_train.drop(columns=['composition', 'band_gap'])\n",
    "dft_train_y = dft_train['band_gap']\n",
    "exp_train_X = exp_train.drop(columns=['composition', 'band_gap'])\n",
    "exp_train_y = exp_train['band_gap']\n",
    "dft_test_X = dft_test.drop(columns=['composition', 'band_gap'])\n",
    "dft_test_y = dft_test['band_gap']\n",
    "exp_test_X = exp_test.drop(columns=['composition', 'band_gap'])\n",
    "exp_test_y = exp_test['band_gap']"
   ]
  },
  {
   "cell_type": "markdown",
   "metadata": {},
   "source": [
    "## Model Train"
   ]
  },
  {
   "cell_type": "markdown",
   "metadata": {},
   "source": [
    "### DFT Model"
   ]
  },
  {
   "cell_type": "code",
   "execution_count": null,
   "metadata": {},
   "outputs": [],
   "source": [
    "# using grid search to find the best hyperparameters for the dft model\n",
    "print(f\"['DFT {MODEL_NAME}'] HP optimazation begin...\")\n",
    "# define the parameter grid for model\n",
    "param_grid = {\n",
    "    'n_estimators': [300, 500],  # number of trees in the forest\n",
    "    'max_depth': [None, 5, 10],  # maximum depth of the tree, None means nodes are expanded until all leaves are pure\n",
    "    'min_samples_split': [2, 6, 10],  # minimum number of samples required to split an internal node\n",
    "    'min_samples_leaf': [1, 2, 4],    # minimum number of samples required to be at a leaf node\n",
    "    'max_features': ['sqrt', 'log2', 0.25, 0.5]  # number of features to consider when looking for the best split, None means all features\n",
    "}\n",
    "\n",
    "# create a KFold object for cross-validation\n",
    "kf = KFold(n_splits=5, shuffle=True, random_state=RANDOM_SEED)\n",
    "# create an model\n",
    "random_forest = RandomForestRegressor(random_state=RANDOM_SEED, n_jobs=-1)\n",
    "# create a GridSearchCV object\n",
    "grid_search = GridSearchCV(\n",
    "    estimator=random_forest, \n",
    "    param_grid=param_grid, \n",
    "    scoring='neg_mean_squared_error', \n",
    "    cv=kf, \n",
    "    n_jobs=-1, \n",
    "    verbose=True,\n",
    "    return_train_score=True)\n",
    "\n",
    "# fit the model to the training data\n",
    "grid_search.fit(dft_train_X, dft_train_y)"
   ]
  },
  {
   "cell_type": "code",
   "execution_count": null,
   "metadata": {},
   "outputs": [],
   "source": [
    "# get the best hyperparameters\n",
    "best_params = grid_search.best_params_\n",
    "print(f\"Best Hyperparameters: {best_params}\")\n",
    "best_score = np.sqrt(-grid_search.best_score_)\n",
    "print(f\"Best Cross-Validation RMSE: {best_score:.4f}\")\n",
    "\n",
    "# create a DataFrame to store the results\n",
    "results = pd.DataFrame(grid_search.cv_results_)\n",
    "results['test_rmse'] = np.sqrt(-results['mean_test_score'])\n",
    "results['train_rmse'] = np.sqrt(-results['mean_train_score'])\n",
    "# sort the results by test RMSE\n",
    "results_sorted = results.sort_values('test_rmse')\n",
    "results_sorted = results_sorted[['rank_test_score', 'param_alpha', 'param_l1_ratio', 'train_rmse', 'test_rmse']]\n",
    "results_sorted.head()\n",
    "# save the results to a csv file\n",
    "results_sorted.to_csv(os.path.join(current_path, 'dft_grid_search_results.csv'), index=False)"
   ]
  },
  {
   "cell_type": "markdown",
   "metadata": {},
   "source": [
    "### Overfitting check"
   ]
  },
  {
   "cell_type": "code",
   "execution_count": null,
   "metadata": {},
   "outputs": [],
   "source": [
    "# # \n",
    "# # Train the model with the best hyperparameters on the entire training set\n",
    "# elastic_net_best = ElasticNet(alpha=0.01, l1_ratio=0.05, max_iter=10000, random_state=RANDOM_SEED)\n",
    "# # record model metrics\n",
    "# model_metrics = pd.DataFrame(columns=['Model', 'Error_Type', 'Train_set', 'Test_set', 'R²', 'RMSE', 'MAE'])\n",
    "# # Train the model on dft data\n",
    "# print(\"#\" * 100)\n",
    "# print(f\"[DFT - {MODEL_NAME}] Training {MODEL_NAME} on DFT data:\")\n",
    "# print(\"-\" * 100)\n",
    "\n",
    "# dft_model = SingleModel(clone(elastic_net_best), random_state=RANDOM_SEED)\n",
    "# dft_model.train(dft_train_X, dft_train_y)\n",
    "\n",
    "# # evaluate on the dft train set\n",
    "# print(f\"[Train_error] Evaluating DFT {MODEL_NAME} on DFT train set:\")\n",
    "# metrics = dft_model.evaluate(dft_train_X, dft_train_y)\n",
    "# model_metrics.loc[len(model_metrics)] = {\n",
    "# 'Model': MODEL_NAME,\n",
    "# 'Error_Type': 'Train',\n",
    "# 'Train_set': 'dft',\n",
    "# 'Test_set': 'dft',\n",
    "# 'R²': metrics['r2'],\n",
    "# 'RMSE': metrics['rmse'],\n",
    "# 'MAE': metrics['mae']\n",
    "# }\n",
    "\n",
    "# # evaluate on the dft test set\n",
    "# print(f\"[Test DFT -> DFT] Evaluating DFT {MODEL_NAME} on DFT test set:\")\n",
    "\n",
    "# metrics = dft_model.evaluate(dft_test_X, dft_test_y)\n",
    "# model_metrics.loc[len(model_metrics)] = {\n",
    "# 'Model': MODEL_NAME,\n",
    "# 'Error_Type': 'Test',\n",
    "# 'Train_set': 'dft',\n",
    "# 'Test_set': 'dft',\n",
    "# 'R²': metrics['r2'],\n",
    "# 'RMSE': metrics['rmse'],\n",
    "# 'MAE': metrics['mae']\n",
    "# }\n",
    "# # evaluate on the exp test set\n",
    "# print(f\"[Test DFT -> EXP] Evaluating DFT {MODEL_NAME} on EXP test set:\")\n",
    "# metrics = dft_model.evaluate(exp_test_X, exp_test_y)\n",
    "# model_metrics.loc[len(model_metrics)] = {\n",
    "# 'Model': MODEL_NAME,\n",
    "# 'Error_Type': 'Test',\n",
    "# 'Train_set': 'dft',\n",
    "# 'Test_set': 'exp',\n",
    "# 'R²': metrics['r2'],\n",
    "# 'RMSE': metrics['rmse'],\n",
    "# 'MAE': metrics['mae']\n",
    "# }"
   ]
  },
  {
   "cell_type": "code",
   "execution_count": null,
   "metadata": {},
   "outputs": [],
   "source": [
    "# model_metrics.head()"
   ]
  },
  {
   "cell_type": "markdown",
   "metadata": {},
   "source": [
    "### EXP Model"
   ]
  },
  {
   "cell_type": "code",
   "execution_count": null,
   "metadata": {},
   "outputs": [],
   "source": [
    "# using grid search to find the best hyperparameters for the dft model\n",
    "print(f\"['EXP {MODEL_NAME}'] HP optimazation begin...\")\n",
    "# define the parameter grid for model\n",
    "param_grid = {\n",
    "    'n_estimators': [300, 500],  # number of trees in the forest\n",
    "    'max_depth': [None, 5, 10],  # maximum depth of the tree, None means nodes are expanded until all leaves are pure\n",
    "    'min_samples_split': [2, 4, 6],  # minimum number of samples required to split an internal node\n",
    "    'min_samples_leaf': [1, 2, 4, 6],    # minimum number of samples required to be at a leaf node\n",
    "    'max_features': ['sqrt', 'log2', 0.25, 0.5]  # number of features to consider when looking for the best split, None means all features\n",
    "}\n",
    "\n",
    "# create a KFold object for cross-validation\n",
    "kf = KFold(n_splits=5, shuffle=True, random_state=RANDOM_SEED)\n",
    "# create an model\n",
    "random_forest = RandomForestRegressor(random_state=RANDOM_SEED, n_jobs=-1)\n",
    "# create a GridSearchCV object\n",
    "grid_search = GridSearchCV(\n",
    "    estimator=random_forest, \n",
    "    param_grid=param_grid, \n",
    "    scoring='neg_mean_squared_error', \n",
    "    cv=kf, \n",
    "    n_jobs=-1, \n",
    "    verbose=True,\n",
    "    return_train_score=True)\n",
    "\n",
    "# fit the model to the training data\n",
    "grid_search.fit(exp_train_X, exp_train_y)"
   ]
  },
  {
   "cell_type": "code",
   "execution_count": null,
   "metadata": {},
   "outputs": [],
   "source": [
    "# get the best hyperparameters\n",
    "best_params = grid_search.best_params_\n",
    "print(f\"Best Hyperparameters: {best_params}\")\n",
    "best_score = np.sqrt(-grid_search.best_score_)\n",
    "print(f\"Best Cross-Validation RMSE: {best_score:.4f}\")\n",
    "\n",
    "# create a DataFrame to store the results\n",
    "results = pd.DataFrame(grid_search.cv_results_)\n",
    "results['test_rmse'] = np.sqrt(-results['mean_test_score'])\n",
    "results['train_rmse'] = np.sqrt(-results['mean_train_score'])\n",
    "# sort the results by test RMSE\n",
    "results_sorted = results.sort_values('test_rmse')\n",
    "results_sorted = results_sorted[['rank_test_score', 'param_alpha', 'param_l1_ratio', 'train_rmse', 'test_rmse']]\n",
    "results_sorted.head()"
   ]
  },
  {
   "cell_type": "markdown",
   "metadata": {},
   "source": [
    "### Overfitting check"
   ]
  },
  {
   "cell_type": "code",
   "execution_count": null,
   "metadata": {},
   "outputs": [],
   "source": [
    "# # \n",
    "# # Train the model with the best hyperparameters on the entire training set\n",
    "# model_name = 'ElasticNet'\n",
    "# elastic_net_best = ElasticNet(alpha=0.01, l1_ratio=0.05, max_iter=10000, random_state=RANDOM_SEED)\n",
    "# # record model metrics\n",
    "# model_metrics = pd.DataFrame(columns=['Model', 'Error_Type', 'Train_set', 'Test_set', 'R²', 'RMSE', 'MAE'])\n",
    "# # Train the model on dft data\n",
    "# print(\"#\" * 100)\n",
    "# print(f\"[EXP - {model_name}] Training {model_name} on EXP data:\")\n",
    "# print(\"-\" * 100)\n",
    "\n",
    "# exp_model = SingleModel(clone(elastic_net_best), random_state=RANDOM_SEED)\n",
    "# exp_model.train(exp_train_X, exp_train_y)\n",
    "\n",
    "# # evaluate on the dft train set\n",
    "# print(f\"[Train_error] Evaluating EXP {model_name} on EXP train set:\")\n",
    "# metrics = exp_model.evaluate(exp_train_X, exp_train_y)\n",
    "# model_metrics.loc[len(model_metrics)] = {\n",
    "# 'Model': model_name,\n",
    "# 'Error_Type': 'Train',\n",
    "# 'Train_set': 'exp',\n",
    "# 'Test_set': 'exp',\n",
    "# 'R²': metrics['r2'],\n",
    "# 'RMSE': metrics['rmse'],\n",
    "# 'MAE': metrics['mae']\n",
    "# }\n",
    "\n",
    "# # evaluate on the dft test set\n",
    "# print(f\"[Test EXP -> EXP] Evaluating EXP {model_name} on EXP test set:\")\n",
    "\n",
    "# metrics = exp_model.evaluate(exp_test_X, exp_test_y)\n",
    "# model_metrics.loc[len(model_metrics)] = {\n",
    "# 'Model': model_name,\n",
    "# 'Error_Type': 'Test',\n",
    "# 'Train_set': 'exp',\n",
    "# 'Test_set': 'exp',\n",
    "# 'R²': metrics['r2'],\n",
    "# 'RMSE': metrics['rmse'],\n",
    "# 'MAE': metrics['mae']\n",
    "# }\n",
    "# # evaluate on the exp test set\n",
    "# print(f\"[Test EXP -> DFT] Evaluating EXP {model_name} on DFT test set:\")\n",
    "# metrics = exp_model.evaluate(dft_test_X, dft_test_y)\n",
    "# model_metrics.loc[len(model_metrics)] = {\n",
    "# 'Model': model_name,\n",
    "# 'Error_Type': 'Test',\n",
    "# 'Train_set': 'exp',\n",
    "# 'Test_set': 'dft',\n",
    "# 'R²': metrics['r2'],\n",
    "# 'RMSE': metrics['rmse'],\n",
    "# 'MAE': metrics['mae']\n",
    "# }"
   ]
  },
  {
   "cell_type": "code",
   "execution_count": null,
   "metadata": {},
   "outputs": [],
   "source": [
    "# model_metrics.head()"
   ]
  },
  {
   "cell_type": "code",
   "execution_count": null,
   "metadata": {},
   "outputs": [],
   "source": []
  }
 ],
 "metadata": {
  "kernelspec": {
   "display_name": "base",
   "language": "python",
   "name": "python3"
  },
  "language_info": {
   "codemirror_mode": {
    "name": "ipython",
    "version": 3
   },
   "file_extension": ".py",
   "mimetype": "text/x-python",
   "name": "python",
   "nbconvert_exporter": "python",
   "pygments_lexer": "ipython3",
   "version": "3.11.11"
  }
 },
 "nbformat": 4,
 "nbformat_minor": 2
}
