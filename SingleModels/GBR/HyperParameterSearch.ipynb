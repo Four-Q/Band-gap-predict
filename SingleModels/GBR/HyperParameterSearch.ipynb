{
 "cells": [
  {
   "cell_type": "markdown",
   "metadata": {},
   "source": [
    "# Hyper Parameter Optimization For GradientBoostingRegression"
   ]
  },
  {
   "cell_type": "code",
   "execution_count": null,
   "metadata": {},
   "outputs": [],
   "source": [
    "# import libraries\n",
    "import os\n",
    "import sys\n",
    "import numpy as np\n",
    "import pandas as pd\n",
    "# Set random seed for reproducibility\n",
    "RANDOM_SEED = 42\n",
    "np.random.seed(RANDOM_SEED)\n",
    "MODEL_NAME = 'GBR'"
   ]
  },
  {
   "cell_type": "code",
   "execution_count": null,
   "metadata": {},
   "outputs": [],
   "source": [
    "current_path = os.getcwd()\n",
    "current_path"
   ]
  },
  {
   "cell_type": "code",
   "execution_count": null,
   "metadata": {},
   "outputs": [],
   "source": [
    "# To import the custom module from a specific path\n",
    "sys.path.insert(0, os.path.join(current_path, '../../'))\n",
    "# Importing the custom module\n",
    "from Utools.draw import plot_feature_importance, plot_feature_importance\n",
    "from Utools.SingleModel import SingleModel"
   ]
  },
  {
   "cell_type": "code",
   "execution_count": null,
   "metadata": {},
   "outputs": [],
   "source": [
    "from sklearn.base import clone\n",
    "from sklearn.ensemble import GradientBoostingRegressor\n",
    "from sklearn.model_selection import GridSearchCV, KFold, RandomizedSearchCV"
   ]
  },
  {
   "cell_type": "markdown",
   "metadata": {},
   "source": [
    "## Load Data"
   ]
  },
  {
   "cell_type": "code",
   "execution_count": null,
   "metadata": {},
   "outputs": [],
   "source": [
    "# Load data\n",
    "file_dir = os.path.join(current_path, '../../Data/composition_data/feature_data')\n",
    "# dft data\n",
    "dft_train = pd.read_csv(os.path.join(file_dir, 'dft', 'train.csv'))\n",
    "dft_test = pd.read_csv(os.path.join(file_dir, 'dft', 'test.csv'))\n",
    "# exp data\n",
    "exp_train = pd.read_csv(os.path.join(file_dir, 'exp', 'train.csv'))\n",
    "exp_test = pd.read_csv(os.path.join(file_dir, 'exp', 'test.csv'))\n",
    "\n",
    "dft_train_X = dft_train.drop(columns=['composition', 'band_gap'])\n",
    "dft_train_y = dft_train['band_gap']\n",
    "exp_train_X = exp_train.drop(columns=['composition', 'band_gap'])\n",
    "exp_train_y = exp_train['band_gap']\n",
    "dft_test_X = dft_test.drop(columns=['composition', 'band_gap'])\n",
    "dft_test_y = dft_test['band_gap']\n",
    "exp_test_X = exp_test.drop(columns=['composition', 'band_gap'])\n",
    "exp_test_y = exp_test['band_gap']"
   ]
  },
  {
   "cell_type": "markdown",
   "metadata": {},
   "source": [
    "## Model Train"
   ]
  },
  {
   "cell_type": "markdown",
   "metadata": {},
   "source": [
    "### DFT Model"
   ]
  },
  {
   "cell_type": "code",
   "execution_count": null,
   "metadata": {},
   "outputs": [],
   "source": [
    "# using random search to find the best hyperparameters for the dft model\n",
    "print(f\"['DFT {MODEL_NAME}'] HP optimization begin...\")\n",
    "# define the parameter distributions  for the KNN model\n",
    "param_distributions = {\n",
    "    'n_estimators': [200, 300, 500],\n",
    "    'learning_rate': [0.01, 0.05, 0.1, 0.2],\n",
    "    'max_depth': [3, 4, 5, 7, 10],\n",
    "    'max_features': ['sqrt', 'log2', 0.25],\n",
    "}\n",
    "# create a KFold object for cross-validation\n",
    "kf = KFold(n_splits=5, shuffle=True, random_state=RANDOM_SEED)\n",
    "# create an model\n",
    "gbr = GradientBoostingRegressor(random_state=RANDOM_SEED)\n",
    "# create a randomized search CV object\n",
    "# using n_iter=50 for a faster search, you can increase this for better results(n_iter=5, runtime=4min)\n",
    "# forget to assign metrics score, the default is R2 score\n",
    "random_search = RandomizedSearchCV(estimator=gbr, param_distributions=param_distributions,\n",
    "                n_iter=5, cv=kf, verbose=2, random_state=RANDOM_SEED, \n",
    "                scoring='neg_mean_squared_error', return_train_score=True,  n_jobs=-1)\n",
    "\n",
    "# fit the model to the training data\n",
    "random_search.fit(dft_train_X, dft_train_y)\n"
   ]
  },
  {
   "cell_type": "code",
   "execution_count": null,
   "metadata": {},
   "outputs": [],
   "source": [
    "# get the best hyperparameters\n",
    "best_params = random_search.best_params_\n",
    "print(f\"Best Hyperparameters: {best_params}\")\n",
    "best_score = np.sqrt(-random_search.best_score_)\n",
    "print(f\"Best Cross-Validation RMSE: {best_score:.4f}\")\n",
    "\n",
    "# create a DataFrame to store the results\n",
    "results = pd.DataFrame(random_search.cv_results_)\n",
    "results['test_rmse'] = np.sqrt(-results['mean_test_score'])\n",
    "results['train_rmse'] = np.sqrt(-results['mean_train_score'])\n",
    "# sort the results by test RMSE\n",
    "results_sorted = results.sort_values('test_rmse')\n",
    "results_sorted = results_sorted[['rank_test_score', 'param_n_estimators', 'param_max_depth', \n",
    "                                 'param_learning_rate', 'param_max_features', 'train_rmse', 'test_rmse']]\n",
    "# save the results to a csv file\n",
    "results_sorted.to_csv(os.path.join(current_path, 'dft_random_search_results.csv'), index=False)\n",
    "results_sorted.head()"
   ]
  },
  {
   "cell_type": "markdown",
   "metadata": {},
   "source": [
    "### Overfitting check"
   ]
  },
  {
   "cell_type": "code",
   "execution_count": null,
   "metadata": {},
   "outputs": [],
   "source": [
    "# \n",
    "# Train the model with the best hyperparameters on the entire training set\n",
    "# using the best hyperparameters from the random search\n",
    "gbr_best = GradientBoostingRegressor(\n",
    "    n_estimators=best_params['n_estimators'],\n",
    "    learning_rate=best_params['learning_rate'],\n",
    "    max_depth=best_params['max_depth'],\n",
    "    max_features=best_params['max_features'],\n",
    "    random_state=RANDOM_SEED\n",
    ")\n",
    "# record model metrics\n",
    "model_metrics = pd.DataFrame(columns=['Model', 'Error_Type', 'Train_set', 'Test_set', 'R²', 'RMSE', 'MAE'])\n",
    "# Train the model on dft data\n",
    "print(\"#\" * 100)\n",
    "print(f\"[DFT - {MODEL_NAME}] Training {MODEL_NAME} on DFT data:\")\n",
    "print(\"-\" * 100)\n",
    "\n",
    "dft_model = SingleModel(clone(gbr_best), random_state=RANDOM_SEED)\n",
    "dft_model.train(dft_train_X, dft_train_y)\n",
    "\n",
    "# evaluate on the dft train set\n",
    "print(f\"[Train_error] Evaluating DFT {MODEL_NAME} on DFT train set:\")\n",
    "metrics = dft_model.evaluate(dft_train_X, dft_train_y)\n",
    "model_metrics.loc[len(model_metrics)] = {\n",
    "'Model': MODEL_NAME,\n",
    "'Error_Type': 'Train',\n",
    "'Train_set': 'dft',\n",
    "'Test_set': 'dft',\n",
    "'R²': metrics['r2'],\n",
    "'RMSE': metrics['rmse'],\n",
    "'MAE': metrics['mae']\n",
    "}\n",
    "\n",
    "# evaluate on the dft test set\n",
    "print(f\"[Test DFT -> DFT] Evaluating DFT {MODEL_NAME} on DFT test set:\")\n",
    "\n",
    "metrics = dft_model.evaluate(dft_test_X, dft_test_y)\n",
    "model_metrics.loc[len(model_metrics)] = {\n",
    "'Model': MODEL_NAME,\n",
    "'Error_Type': 'Test',\n",
    "'Train_set': 'dft',\n",
    "'Test_set': 'dft',\n",
    "'R²': metrics['r2'],\n",
    "'RMSE': metrics['rmse'],\n",
    "'MAE': metrics['mae']\n",
    "}\n",
    "# evaluate on the exp test set\n",
    "print(f\"[Test DFT -> EXP] Evaluating DFT {MODEL_NAME} on EXP test set:\")\n",
    "metrics = dft_model.evaluate(exp_test_X, exp_test_y)\n",
    "model_metrics.loc[len(model_metrics)] = {\n",
    "'Model': MODEL_NAME,\n",
    "'Error_Type': 'Test',\n",
    "'Train_set': 'dft',\n",
    "'Test_set': 'exp',\n",
    "'R²': metrics['r2'],\n",
    "'RMSE': metrics['rmse'],\n",
    "'MAE': metrics['mae']\n",
    "}"
   ]
  },
  {
   "cell_type": "code",
   "execution_count": null,
   "metadata": {},
   "outputs": [],
   "source": [
    "model_metrics.head()"
   ]
  },
  {
   "cell_type": "markdown",
   "metadata": {},
   "source": [
    "### EXP Model"
   ]
  },
  {
   "cell_type": "code",
   "execution_count": null,
   "metadata": {},
   "outputs": [],
   "source": [
    "# using random search to find the best hyperparameters for the dft model\n",
    "print(f\"['EXP {MODEL_NAME}'] HP optimization begin...\")\n",
    "# define the parameter distributions  for the KNN model\n",
    "param_distributions = {\n",
    "    'n_estimators': [200, 300, 500],\n",
    "    'learning_rate': [0.01, 0.05, 0.1, 0.2],\n",
    "    'max_depth': [3, 4, 5, 7, 10],\n",
    "    'max_features': ['sqrt', 'log2', 0.25],\n",
    "}\n",
    "# create a KFold object for cross-validation\n",
    "kf = KFold(n_splits=5, shuffle=True, random_state=RANDOM_SEED)\n",
    "# create an model\n",
    "gbr = GradientBoostingRegressor(random_state=RANDOM_SEED)\n",
    "# create a randomized search CV object\n",
    "# using n_iter=50 for a faster search, you can increase this for better results\n",
    "# forget to assign metrics score, the default is R2 score\n",
    "random_search = RandomizedSearchCV(estimator=gbr, param_distributions=param_distributions,\n",
    "                n_iter=100, cv=kf, verbose=2, random_state=RANDOM_SEED, \n",
    "                scoring='neg_mean_squared_error', return_train_score=True,  n_jobs=-1)\n",
    "\n",
    "# fit the model to the training data\n",
    "random_search.fit(exp_train_X, exp_train_y)\n"
   ]
  },
  {
   "cell_type": "code",
   "execution_count": null,
   "metadata": {},
   "outputs": [],
   "source": [
    "# get the best hyperparameters\n",
    "best_params = random_search.best_params_\n",
    "print(f\"Best Hyperparameters: {best_params}\")\n",
    "best_score = np.sqrt(-random_search.best_score_)\n",
    "print(f\"Best Cross-Validation RMSE: {best_score:.4f}\")\n",
    "\n",
    "# create a DataFrame to store the results\n",
    "results = pd.DataFrame(random_search.cv_results_)\n",
    "results['test_rmse'] = np.sqrt(-results['mean_test_score'])\n",
    "results['train_rmse'] = np.sqrt(-results['mean_train_score'])\n",
    "# sort the results by test RMSE\n",
    "results_sorted = results.sort_values('test_rmse')\n",
    "results_sorted = results_sorted[['rank_test_score', 'param_n_estimators', 'param_max_depth', \n",
    "                                 'param_learning_rate', 'param_max_features', 'train_rmse', 'test_rmse']]\n",
    "\n",
    "# save the results to a csv file\n",
    "results_sorted.to_csv(os.path.join(current_path, 'exp_random_search_results.csv'), index=False)\n",
    "results_sorted.head()"
   ]
  },
  {
   "cell_type": "markdown",
   "metadata": {},
   "source": [
    "### Overfitting check"
   ]
  },
  {
   "cell_type": "code",
   "execution_count": null,
   "metadata": {},
   "outputs": [],
   "source": [
    "# \n",
    "# Train the model with the best hyperparameters on the entire training set\n",
    "# using the best hyperparameters from the random search\n",
    "gbr_best = GradientBoostingRegressor(\n",
    "    n_estimators=best_params['n_estimators'],\n",
    "    learning_rate=best_params['learning_rate'],\n",
    "    max_depth=best_params['max_depth'],\n",
    "    max_features=best_params['max_features'],\n",
    "    random_state=RANDOM_SEED\n",
    ")\n",
    "\n",
    "# record model metrics\n",
    "model_metrics = pd.DataFrame(columns=['Model', 'Error_Type', 'Train_set', 'Test_set', 'R²', 'RMSE', 'MAE'])\n",
    "# Train the model on dft data\n",
    "print(\"#\" * 100)\n",
    "print(f\"[EXP - {MODEL_NAME}] Training {MODEL_NAME} on EXP data:\")\n",
    "print(\"-\" * 100)\n",
    "\n",
    "exp_model = SingleModel(clone(gbr_best), random_state=RANDOM_SEED)\n",
    "exp_model.train(exp_train_X, exp_train_y)\n",
    "\n",
    "# evaluate on the dft train set\n",
    "print(f\"[Train_error] Evaluating EXP {MODEL_NAME} on EXP train set:\")\n",
    "metrics = exp_model.evaluate(exp_train_X, exp_train_y)\n",
    "model_metrics.loc[len(model_metrics)] = {\n",
    "'Model': MODEL_NAME,\n",
    "'Error_Type': 'Train',\n",
    "'Train_set': 'exp',\n",
    "'Test_set': 'exp',\n",
    "'R²': metrics['r2'],\n",
    "'RMSE': metrics['rmse'],\n",
    "'MAE': metrics['mae']\n",
    "}\n",
    "\n",
    "# evaluate on the dft test set\n",
    "print(f\"[Test EXP -> EXP] Evaluating EXP {MODEL_NAME} on EXP test set:\")\n",
    "\n",
    "metrics = exp_model.evaluate(exp_test_X, exp_test_y)\n",
    "model_metrics.loc[len(model_metrics)] = {\n",
    "'Model': MODEL_NAME,\n",
    "'Error_Type': 'Test',\n",
    "'Train_set': 'exp',\n",
    "'Test_set': 'exp',\n",
    "'R²': metrics['r2'],\n",
    "'RMSE': metrics['rmse'],\n",
    "'MAE': metrics['mae']\n",
    "}\n",
    "# evaluate on the exp test set\n",
    "print(f\"[Test EXP -> DFT] Evaluating EXP {MODEL_NAME} on DFT test set:\")\n",
    "metrics = exp_model.evaluate(dft_test_X, dft_test_y)\n",
    "model_metrics.loc[len(model_metrics)] = {\n",
    "'Model': MODEL_NAME,\n",
    "'Error_Type': 'Test',\n",
    "'Train_set': 'exp',\n",
    "'Test_set': 'dft',\n",
    "'R²': metrics['r2'],\n",
    "'RMSE': metrics['rmse'],\n",
    "'MAE': metrics['mae']\n",
    "}"
   ]
  },
  {
   "cell_type": "code",
   "execution_count": null,
   "metadata": {},
   "outputs": [],
   "source": [
    "model_metrics.head()"
   ]
  },
  {
   "cell_type": "code",
   "execution_count": null,
   "metadata": {},
   "outputs": [],
   "source": []
  }
 ],
 "metadata": {
  "kernelspec": {
   "display_name": "base",
   "language": "python",
   "name": "python3"
  },
  "language_info": {
   "codemirror_mode": {
    "name": "ipython",
    "version": 3
   },
   "file_extension": ".py",
   "mimetype": "text/x-python",
   "name": "python",
   "nbconvert_exporter": "python",
   "pygments_lexer": "ipython3",
   "version": "3.11.11"
  }
 },
 "nbformat": 4,
 "nbformat_minor": 2
}
